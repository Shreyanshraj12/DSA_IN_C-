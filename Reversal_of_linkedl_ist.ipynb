{
  "nbformat": 4,
  "nbformat_minor": 0,
  "metadata": {
    "colab": {
      "provenance": [],
      "authorship_tag": "ABX9TyOSI7AeE9bcAyw9i6BjCWY0",
      "include_colab_link": true
    },
    "kernelspec": {
      "name": "python3",
      "display_name": "Python 3"
    },
    "language_info": {
      "name": "python"
    }
  },
  "cells": [
    {
      "cell_type": "markdown",
      "metadata": {
        "id": "view-in-github",
        "colab_type": "text"
      },
      "source": [
        "<a href=\"https://colab.research.google.com/github/Shreyanshraj12/leetcodequestion/blob/main/Reversal_of_linkedl_ist.ipynb\" target=\"_parent\"><img src=\"https://colab.research.google.com/assets/colab-badge.svg\" alt=\"Open In Colab\"/></a>"
      ]
    },
    {
      "cell_type": "code",
      "execution_count": null,
      "metadata": {
        "id": "cdaMc3tcMgB9"
      },
      "outputs": [],
      "source": [
        "current = head\n",
        "prev = None\n",
        "while current:\n",
        "  new_list = current.next\n",
        "  current.next = Prev\n",
        "  prev = current\n",
        "  current = new_list\n",
        "return prev"
      ]
    }
  ]
}