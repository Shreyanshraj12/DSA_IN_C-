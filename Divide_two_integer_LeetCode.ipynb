{
  "nbformat": 4,
  "nbformat_minor": 0,
  "metadata": {
    "colab": {
      "provenance": [],
      "authorship_tag": "ABX9TyPJ9WPq7wMB7XKZPQzLEz2N",
      "include_colab_link": true
    },
    "kernelspec": {
      "name": "python3",
      "display_name": "Python 3"
    },
    "language_info": {
      "name": "python"
    }
  },
  "cells": [
    {
      "cell_type": "markdown",
      "metadata": {
        "id": "view-in-github",
        "colab_type": "text"
      },
      "source": [
        "<a href=\"https://colab.research.google.com/github/Shreyanshraj12/leetcodequestion/blob/main/Divide_two_integer_LeetCode.ipynb\" target=\"_parent\"><img src=\"https://colab.research.google.com/assets/colab-badge.svg\" alt=\"Open In Colab\"/></a>"
      ]
    },
    {
      "cell_type": "code",
      "execution_count": 6,
      "metadata": {
        "id": "w65l_a4XKvHR",
        "colab": {
          "base_uri": "https://localhost:8080/"
        },
        "outputId": "f2cf7b4c-5961-43a2-d07b-de08b6aacc35"
      },
      "outputs": [
        {
          "output_type": "stream",
          "name": "stdout",
          "text": [
            "11\n"
          ]
        }
      ],
      "source": [
        "dividend = 47\n",
        "divisor = 4\n",
        "count = 0\n",
        "while dividend>=divisor:\n",
        "  count = count+1\n",
        "  dividend-= divisor\n",
        "print(count)"
      ]
    },
    {
      "cell_type": "code",
      "source": [
        "divid = abs(dividend)\n",
        "div = abs(divisor)\n",
        "result = 0\n",
        "shift = 0\n",
        "while divid>div:\n",
        "  while divid>=(dividend<<(shift)):\n",
        "    shift+= 1\n",
        "  result+= 1<<(shift-1)\n",
        "  divid-= div<<(shift-1)\n",
        "if(dividend <0 and divisor> 0) or (dividend>0 and divisor< 0):\n",
        "  result = -result\n",
        "return min(2147483647,max(2147483648,result))\n",
        "\n"
      ],
      "metadata": {
        "id": "Zi8zOEAx9THC"
      },
      "execution_count": null,
      "outputs": []
    }
  ]
}