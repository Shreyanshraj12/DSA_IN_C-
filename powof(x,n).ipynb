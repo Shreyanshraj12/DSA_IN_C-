{
  "nbformat": 4,
  "nbformat_minor": 0,
  "metadata": {
    "colab": {
      "provenance": [],
      "authorship_tag": "ABX9TyMr6rLdCu0JWlZMS6+5AxfR",
      "include_colab_link": true
    },
    "kernelspec": {
      "name": "python3",
      "display_name": "Python 3"
    },
    "language_info": {
      "name": "python"
    }
  },
  "cells": [
    {
      "cell_type": "markdown",
      "metadata": {
        "id": "view-in-github",
        "colab_type": "text"
      },
      "source": [
        "<a href=\"https://colab.research.google.com/github/Shreyanshraj12/leetcodequestion/blob/main/powof(x%2Cn).ipynb\" target=\"_parent\"><img src=\"https://colab.research.google.com/assets/colab-badge.svg\" alt=\"Open In Colab\"/></a>"
      ]
    },
    {
      "cell_type": "code",
      "execution_count": null,
      "metadata": {
        "id": "Fm6n6WCqCs7v"
      },
      "outputs": [],
      "source": [
        "if n == 0:\n",
        "  return 1\n",
        "elif n == 1:\n",
        "  return x\n",
        "elif n<0:\n",
        "  x = 1/x\n",
        "  n = -n\n",
        "  return self.mypow(x,n)\n",
        "else:\n",
        "  mid = n//2\n",
        "  b = self.mypow(x,mid)\n",
        "  result = b*b\n",
        "  if n%2 == 0:\n",
        "    return result\n",
        "  else:\n",
        "    return x*result"
      ]
    }
  ]
}